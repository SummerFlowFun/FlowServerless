import uuid
import boto3
import pandas as pd
from collections import defaultdict

dynamodb = boto3.resource('dynamodb')
table_name = "foods_origin_table"
index_table_name = "foods_origin_inverted_index_table"
table = dynamodb.Table(table_name)
index_table = dynamodb.Table(index_table_name)



inverted_index = defaultdict(set)

def lambda_handler(event, context):
    csv_file_key = "test.csv"

    csv_file = pd.read_csv(csv_file_key)[0:]
    print(csv_file)

    for index, row in csv_file.iterrows():
        new_row = regulate_data(row.to_dict())
        new_row['id'] = str(uuid.uuid4())

        table.put_item(Item=new_row)

        food_id = new_row['id']
        food_name_terms = new_row['식품명'].split()
        food_subcategory_terms = new_row['식품소분류명'].split()

        for term in food_name_terms:
            add_to_inverted_index(term, food_id)

        for term in food_subcategory_terms:
            add_to_inverted_index(term, food_id)

        print(index, new_row['식품명'], new_row['식품소분류명'], 'successfully inserted')

    for term, food_ids in inverted_index.items():
        inverted_index_item = {
            'term': term,
            'food_idss': list(food_ids)
        }
        index_table.put_item(Item=inverted_index_item)
        print(f"Term '{term}' indexed with {len(food_ids)} food codes.")

def add_to_inverted_index(term, food_id):
    inverted_index[term].add(food_id)


def regulate_data(row):
    regulated_row = {}
    regulated_row['식품코드'] = row.get('식품코드', '')
    regulated_row['식품명'] = row.get('식품명', '')
    regulated_row['데이터구분코드'] = row.get('데이터구분코드', '')
    regulated_row['데이터구분명'] = row.get('데이터구분명', '')
    regulated_row['식품기원코드'] = row.get('식품기원코드', '')
    regulated_row['식품기원명'] = row.get('식품기원명', '')
    regulated_row['식품대분류코드'] = row.get('식품대분류코드', '')
    regulated_row['식품대분류명'] = row.get('식품대분류명', '')
    regulated_row['대표식품코드'] = row.get('대표식품코드', '')
    regulated_row['대표식품명'] = row.get('대표식품명', '')
    regulated_row['식품중분류코드'] = row.get('식품중분류코드', '')
    regulated_row['식품중분류명'] = row.get('식품중분류명', '')
    regulated_row['식품소분류코드'] = row.get('식품소분류코드', '')
    regulated_row['식품소분류명'] = row.get('식품소분류명', '')
    regulated_row['식품세분류코드'] = row.get('식품세분류코드', '')
    regulated_row['식품세분류명'] = row.get('식품세분류명', '')
    regulated_row['영양성분함량기준량'] = parse_float(row.get('영양성분함량기준량', '0'))
    regulated_row['에너지'] = parse_float(row.get('에너지', '0'))
    regulated_row['품목제조보고번호'] = f"{str(row.get('품목제조보고번호', ''))}"
    regulated_row['수분g'] = parse_float(row.get('수분g', '0'))
    regulated_row['단백질g'] = parse_float(row.get('단백질g', '0'))
    regulated_row['지방g'] = parse_float(row.get('지방g', '0'))
    regulated_row['회분g'] = parse_float(row.get('회분g', '0'))
    regulated_row['탄수화물g'] = parse_float(row.get('탄수화물g', '0'))
    regulated_row['당류g'] = parse_float(row.get('당류g', '0'))
    regulated_row['식이섬유g'] = parse_float(row.get('식이섬유g', '0'))
    regulated_row['칼슘mg'] = parse_float(row.get('칼슘mg', '0'))
    regulated_row['철mg'] = parse_float(row.get('철mg', '0'))
    regulated_row['인mg'] = parse_float(row.get('인mg', '0'))
    regulated_row['칼륨mg'] = parse_float(row.get('칼륨mg', '0'))
    regulated_row['나트륨mg'] = parse_float(row.get('나트륨mg', '0'))
    regulated_row['비타민AμgRAE'] = parse_float(row.get('비타민AμgRAE', '0'))
    regulated_row['레티놀μg'] = parse_float(row.get('레티놀μg', '0'))
    regulated_row['베타카로틴μg'] = parse_float(row.get('베타카로틴μg', '0'))
    regulated_row['티아민mg'] = parse_float(row.get('티아민mg', '0'))
    regulated_row['리보플라빈mg'] = parse_float(row.get('리보플라빈mg', '0'))
    regulated_row['니아신mg'] = parse_float(row.get('니아신mg', '0'))
    regulated_row['비타민Cmg'] = parse_float(row.get('비타민Cmg', '0'))
    regulated_row['비타민Dμg'] = parse_float(row.get('비타민Dμg', '0'))
    regulated_row['비타민EmgαTE'] = parse_float(row.get('비타민EmgαTE', '0'))
    regulated_row['비타민Kμg'] = parse_float(row.get('비타민Kμg', '0'))
    regulated_row['포화지방산g'] = parse_float(row.get('포화지방산g', '0'))
    regulated_row['트랜스지방산g'] = parse_float(row.get('트랜스지방산g', '0'))
    regulated_row['오메가3지방산g'] = parse_float(row.get('오메가3지방산g', '0'))
    regulated_row['오메가6지방산g'] = parse_float(row.get('오메가6지방산g', '0'))
    regulated_row['네르본산mg'] = parse_float(row.get('네르본산mg', '0'))
    regulated_row['도코사디에노산mg'] = parse_float(row.get('도코사디에노산mg', '0'))
    regulated_row['도코사펜타에노산DPAmg'] = parse_float(row.get('도코사펜타에노산DPAmg', '0'))
    regulated_row['도코사헥사에노산DHAmg'] = parse_float(row.get('도코사헥사에노산DHAmg', '0'))
    regulated_row['디호모리놀렌산mg'] = parse_float(row.get('디호모리놀렌산mg', '0'))
    regulated_row['라우르산mg'] = parse_float(row.get('라우르산mg', '0'))

    # 추가된 필드들
    regulated_row['출처코드'] = row.get('출처코드', '')
    regulated_row['출처명'] = row.get('출처명', '')
    regulated_row['1회섭취참고량'] = parse_float(row.get('1회섭취참고량', '0'))
    regulated_row['식품중량'] = parse_float(row.get('식품중량', '0'))
    regulated_row['제조사명'] = row.get('제조사명', '')
    regulated_row['수입업체명'] = row.get('수입업체명', '')
    regulated_row['유통업체명'] = row.get('유통업체명', '')
    regulated_row['수입여부'] = row.get('수입여부', '')
    regulated_row['원산지국명'] = row.get('원산지국명', '')
    regulated_row['데이터생성방법코드'] = row.get('데이터생성방법코드', '')
    regulated_row['데이터생성방법명'] = row.get('데이터생성방법명', '')
    regulated_row['데이터생성일자'] = row.get('데이터생성일자', '')
    regulated_row['데이터기준일자'] = row.get('데이터기준일자', '')

    return regulated_row

def parse_float(value):
    try:
        return int(value) if value else 0
    except ValueError:
        return None

def parse_int(value):
    try:
        return int(value) if value else 0
    except ValueError:
        return None

def segment_and_add_to_index(item_id, text, field_name):
    if text:  # text가 존재할 때만 역색인 테이블에 추가
        tokens = text.split()  # 공백을 기준으로 텍스트를 토큰화
        for token in tokens:
            index_table.put_item(Item={
                'term': token,        # 검색 키워드 (토큰)
                'item_id': item_id,   # 원본 항목의 ID
                'field_name': field_name # 필드 이름
            })


lambda_handler(None, None)