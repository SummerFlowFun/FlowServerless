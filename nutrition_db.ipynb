{
 "cells": [
  {
   "cell_type": "code",
   "id": "initial_id",
   "metadata": {
    "collapsed": true,
    "ExecuteTime": {
     "end_time": "2024-08-11T01:57:46.347384Z",
     "start_time": "2024-08-11T01:57:43.077639Z"
    }
   },
   "source": [
    "import boto3\n",
    "import pandas as pd\n",
    "\n",
    "# Initialize a session using Amazon DynamoDB\n",
    "dynamodb = boto3.resource('dynamodb', region_name='ap-northeast-2')  # Specify your region\n",
    "\n",
    "# Define the table name\n",
    "table_name = 'NutritionData'\n",
    "\n",
    "# Create the DynamoDB table if it doesn't exist\n",
    "try:\n",
    "    table = dynamodb.create_table(\n",
    "        TableName=table_name,\n",
    "        KeySchema=[\n",
    "            {\n",
    "                'AttributeName': '임신 주수',  # Use the CSV header directly\n",
    "                'KeyType': 'HASH'  # Partition key\n",
    "            }\n",
    "        ],\n",
    "        AttributeDefinitions=[\n",
    "            {\n",
    "                'AttributeName': '임신 주수',\n",
    "                'AttributeType': 'S'  # Assuming '임신 주수' is a string in the CSV\n",
    "            }\n",
    "        ],\n",
    "        ProvisionedThroughput={\n",
    "            'ReadCapacityUnits': 5,\n",
    "            'WriteCapacityUnits': 5\n",
    "        }\n",
    "    )\n",
    "    table.wait_until_exists()\n",
    "except dynamodb.meta.client.exceptions.ResourceInUseException:\n",
    "    # Table already exists\n",
    "    table = dynamodb.Table(table_name)\n",
    "\n",
    "# Read the CSV file\n",
    "csv_file_path = 'updated_pregnancy_nutrition_data.csv'  # Replace with your CSV file path\n",
    "df = pd.read_csv(csv_file_path)\n",
    "\n",
    "# Iterate over the DataFrame and insert each row into DynamoDB\n",
    "for index, row in df.iterrows():\n",
    "    # Convert the row to a dictionary\n",
    "    item = row.to_dict()\n",
    "\n",
    "    # Convert numeric values to their appropriate types\n",
    "    for key in item:\n",
    "        if pd.notnull(item[key]):  # Check for NaN values\n",
    "            if isinstance(item[key], float) and item[key].is_integer():\n",
    "                item[key] = int(item[key])\n",
    "            elif isinstance(item[key], float):\n",
    "                item[key] = int(item[key])\n",
    "            elif isinstance(item[key], int):\n",
    "                item[key] = int(item[key])\n",
    "            elif isinstance(item[key], str):\n",
    "                item[key] = str(item[key])\n",
    "\n",
    "    # Insert the item into DynamoDB\n",
    "    table.put_item(Item=item)\n",
    "\n",
    "print(\"Data insertion completed.\")"
   ],
   "outputs": [
    {
     "name": "stdout",
     "output_type": "stream",
     "text": [
      "Data insertion completed.\n"
     ]
    }
   ],
   "execution_count": 3
  },
  {
   "metadata": {},
   "cell_type": "code",
   "outputs": [],
   "execution_count": null,
   "source": "",
   "id": "3c6e188d7a0ab57b"
  }
 ],
 "metadata": {
  "kernelspec": {
   "display_name": "Python 3",
   "language": "python",
   "name": "python3"
  },
  "language_info": {
   "codemirror_mode": {
    "name": "ipython",
    "version": 2
   },
   "file_extension": ".py",
   "mimetype": "text/x-python",
   "name": "python",
   "nbconvert_exporter": "python",
   "pygments_lexer": "ipython2",
   "version": "2.7.6"
  }
 },
 "nbformat": 4,
 "nbformat_minor": 5
}
